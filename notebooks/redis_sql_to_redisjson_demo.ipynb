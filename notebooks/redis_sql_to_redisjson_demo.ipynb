{
 "cells": [
  {
   "cell_type": "markdown",
   "id": "35000579",
   "metadata": {},
   "source": [
    "# Redis Demo"
   ]
  },
  {
   "cell_type": "code",
   "execution_count": null,
   "id": "46ee439d",
   "metadata": {},
   "outputs": [],
   "source": [
    "import redis, json, random\n",
    "from datetime import datetime, timedelta\n",
    "\n",
    "r = redis.Redis(decode_responses=True)\n",
    "for i in range(3):\n",
    "    r.json().set(f\"user:u{i}\", \"$\", {\n",
    "        \"userId\": f\"u{i}\",\n",
    "        \"name\": f\"User {i}\",\n",
    "        \"portfolio\": [{\"stock\": \"AAPL\", \"quantity\": 10, \"gainLoss\": 5}],\n",
    "        \"transactions\": [{\"txnId\": f\"t{i}\", \"type\": \"BUY\", \"amount\": 1000, \"timestamp\": datetime.utcnow().isoformat()}]\n",
    "    })\n",
    "print(\"Inserted users.\")\n"
   ]
  }
 ],
 "metadata": {},
 "nbformat": 4,
 "nbformat_minor": 5
}