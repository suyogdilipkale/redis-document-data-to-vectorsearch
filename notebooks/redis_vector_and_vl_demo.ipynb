{
 "cells": [
  {
   "cell_type": "markdown",
   "metadata": {},
   "source": [
    "# Redis Vector Search and RedisVL Demo\n",
    "\n",
    "This notebook demonstrates how to use Redis as a vector database and how to simplify vector search using the RedisVL library."
   ]
  },
  {
   "cell_type": "code",
   "execution_count": null,
   "metadata": {},
   "outputs": [],
   "source": [
    "import redis\n",
    "import numpy as np\n",
    "import json\n",
    "\n",
    "r = redis.Redis(host='localhost', port=6379, decode_responses=True)\n",
    "\n",
    "# Function to create a dummy vector with 8 dimensions\n",
    "def create_vector():\n",
    "    return np.round(np.random.rand(8), 3).tolist()\n",
    "\n",
    "# Insert dummy vector records\n",
    "for i in range(5):\n",
    "    doc = {\n",
    "        \"id\": f\"vec{i}\",\n",
    "        \"content\": f\"This is sample vector document {i}\",\n",
    "        \"embedding\": create_vector()\n",
    "    }\n",
    "    r.json().set(f\"vec:{i}\", \"$\", doc)\n",
    "\n",
    "print(\"Inserted vector documents.\")"
   ]
  },
  {
   "cell_type": "code",
   "execution_count": null,
   "metadata": {},
   "outputs": [],
   "source": [
    "# Create RediSearch vector index\n",
    "from redis.commands.search.field import TextField, VectorField\n",
    "\n",
    "try:\n",
    "    r.ft(\"idx:vecs\").dropindex(delete_documents=False)\n",
    "except:\n",
    "    pass\n",
    "\n",
    "schema = [\n",
    "    TextField(\"$.content\", as_name=\"content\"),\n",
    "    VectorField(\"$.embedding\", \"FLAT\", {\n",
    "        \"TYPE\": \"FLOAT32\",\n",
    "        \"DIM\": 8,\n",
    "        \"DISTANCE_METRIC\": \"COSINE\",\n",
    "        \"INITIAL_CAP\": 100\n",
    "    }, as_name=\"embedding\")\n",
    "]\n",
    "\n",
    "r.ft(\"idx:vecs\").create_index(schema, on=\"JSON\", prefix=[\"vec:\"])\n",
    "print(\"Vector index created.\")"
   ]
  },
  {
   "cell_type": "code",
   "execution_count": null,
   "metadata": {},
   "outputs": [],
   "source": [
    "# Vector KNN query\n",
    "from redis.commands.search.query import Query\n",
    "import struct\n",
    "\n",
    "query_vector = create_vector()\n",
    "blob = np.array(query_vector, dtype=np.float32).tobytes()\n",
    "\n",
    "q = Query(\"*=>[KNN 2 @embedding $vec AS score]\").return_fields(\"id\", \"score\").sort_by(\"score\").dialect(2)\n",
    "res = r.ft(\"idx:vecs\").search(q, query_params={\"vec\": blob})\n",
    "\n",
    "for doc in res.docs:\n",
    "    print(doc.id, doc.score)"
   ]
  },
  {
   "cell_type": "markdown",
   "metadata": {},
   "source": [
    "## RedisVL Library Demo"
   ]
  },
  {
   "cell_type": "code",
   "execution_count": null,
   "metadata": {},
   "outputs": [],
   "source": [
    "!pip install redisvl\n",
    "from redisvl import Client, Index\n",
    "from redisvl.schema import IndexSchema,
