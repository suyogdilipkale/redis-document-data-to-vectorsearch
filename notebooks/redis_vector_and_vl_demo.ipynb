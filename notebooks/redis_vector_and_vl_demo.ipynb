{
 "cells": [
  {
   "cell_type": "markdown",
   "id": "0f9f4bbe",
   "metadata": {},
   "source": [
    "# Redis Vector Search and RedisVL Demo\n",
    "\n",
    "This notebook demonstrates how to use Redis as a vector database and how to simplify vector search using the RedisVL library."
   ]
  },
  {
   "cell_type": "code",
   "execution_count": null,
   "id": "bb75fd70",
   "metadata": {},
   "outputs": [],
   "source": [
    "import redis\n",
    "import numpy as np\n",
    "import json\n",
    "\n",
    "r = redis.Redis(host='localhost', port=6379, decode_responses=True)\n",
    "\n",
    "# Function to create a dummy vector with 8 dimensions\n",
    "def create_vector():\n",
    "    return np.round(np.random.rand(8), 3).tolist()\n",
    "\n",
    "# Insert dummy vector records\n",
    "for i in range(5):\n",
    "    doc = {\n",
    "        \"id\": f\"vec{i}\",\n",
    "        \"content\": f\"This is sample vector document {i}\",\n",
    "        \"embedding\": create_vector()\n",
    "    }\n",
    "    r.json().set(f\"vec:{i}\", \"$\", doc)\n",
    "\n",
    "print(\"Inserted vector documents.\")"
   ]
  },
  {
   "cell_type": "code",
   "execution_count": null,
   "id": "3068f910",
   "metadata": {},
   "outputs": [],
   "source": [
    "# Create RediSearch vector index\n",
    "from redis.commands.search.field import TextField, VectorField\n",
    "\n",
    "try:\n",
    "    r.ft(\"idx:vecs\").dropindex(delete_documents=False)\n",
    "except:\n",
    "    pass\n",
    "\n",
    "schema = [\n",
    "    TextField(\"$.content\", as_name=\"content\"),\n",
    "    VectorField(\"$.embedding\", \"FLAT\", {\n",
    "        \"TYPE\": \"FLOAT32\",\n",
    "        \"DIM\": 8,\n",
    "        \"DISTANCE_METRIC\": \"COSINE\",\n",
    "        \"INITIAL_CAP\": 100\n",
    "    }, as_name=\"embedding\")\n",
    "]\n",
    "\n",
    "r.ft(\"idx:vecs\").create_index(schema, on=\"JSON\", prefix=[\"vec:\"])\n",
    "print(\"Vector index created.\")"
   ]
  },
  {
   "cell_type": "code",
   "execution_count": null,
   "id": "82417cc4",
   "metadata": {},
   "outputs": [],
   "source": [
    "# Vector KNN query\n",
    "from redis.commands.search.query import Query\n",
    "import struct\n",
    "\n",
    "query_vector = create_vector()\n",
    "blob = np.array(query_vector, dtype=np.float32).tobytes()\n",
    "\n",
    "q = Query(\"*=>[KNN 2 @embedding $vec AS score]\").return_fields(\"id\", \"score\").sort_by(\"score\").dialect(2)\n",
    "res = r.ft(\"idx:vecs\").search(q, query_params={\"vec\": blob})\n",
    "\n",
    "for doc in res.docs:\n",
    "    print(doc.id, doc.score)"
   ]
  },
  {
   "cell_type": "markdown",
   "id": "6113d0bb",
   "metadata": {},
   "source": [
    "## RedisVL Library Demo"
   ]
  },
  {
   "cell_type": "code",
   "execution_count": null,
   "id": "8b93f99a",
   "metadata": {},
   "outputs": [],
   "source": [
    "!pip install redisvl\n",
    "from redisvl import Client, Index\n",
    "from redisvl.schema import IndexSchema, TextField, VectorField\n",
    "\n",
    "# Connect\n",
    "client = Client()\n",
    "\n",
    "# Define schema\n",
    "schema = IndexSchema(\n",
    "    TextField(name=\"content\"),\n",
    "    VectorField(name=\"embedding\", dims=8, algorithm=\"flat\", distance_metric=\"cosine\")\n",
    ")\n",
    "\n",
    "# Create index\n",
    "index = Index(name=\"idx:redisvl\", prefix=\"vecvl:\", schema=schema)\n",
    "client.create_index(index)\n",
    "\n",
    "# Insert sample doc\n",
    "client.load_documents(\n",
    "    documents=[\n",
    "        {\"id\": \"vecvl:1\", \"content\": \"vector doc 1\", \"embedding\": create_vector()}\n",
    "    ]\n",
    ")\n",
    "\n",
    "# Query\n",
    "results = client.query(index.name).knn(vector=create_vector(), num=1).return_fields([\"content\", \"embedding\"]).execute()\n",
    "print(results)"
   ]
  }
 ],
 "metadata": {
  "kernelspec": {
   "display_name": "Python 3 (ipykernel)",
   "language": "python",
   "name": "python3"
  },
  "language_info": {
   "codemirror_mode": {
    "name": "ipython",
    "version": 3
   },
   "file_extension": ".py",
   "mimetype": "text/x-python",
   "name": "python",
   "nbconvert_exporter": "python",
   "pygments_lexer": "ipython3",
   "version": "3.9.6"
  }
 },
 "nbformat": 4,
 "nbformat_minor": 5
}
