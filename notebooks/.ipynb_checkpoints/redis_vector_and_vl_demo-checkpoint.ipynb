{
 "cells": [
  {
   "cell_type": "markdown",
   "id": "0f9f4bbe",
   "metadata": {},
   "source": [
    "# Redis Vector Search and RedisVL Demo\n",
    "\n",
    "This notebook demonstrates how to use Redis as a vector database and how to simplify vector search using the RedisVL library."
   ]
  },
  {
   "cell_type": "code",
   "execution_count": 9,
   "id": "bb75fd70",
   "metadata": {},
   "outputs": [
    {
     "name": "stdout",
     "output_type": "stream",
     "text": [
      "Inserted vector documents.\n"
     ]
    }
   ],
   "source": [
    "import redis\n",
    "import numpy as np\n",
    "import json\n",
    "\n",
    "r = redis.Redis(host='localhost', port=6379, decode_responses=True)\n",
    "\n",
    "# Function to create a dummy vector with 8 dimensions\n",
    "def create_vector():\n",
    "    return np.round(np.random.rand(8), 3).tolist()\n",
    "\n",
    "# Insert dummy vector records\n",
    "for i in range(5):\n",
    "    doc = {\n",
    "        \"id\": f\"vec{i}\",\n",
    "        \"content\": f\"This is sample vector document {i}\",\n",
    "        \"embedding\": create_vector()\n",
    "    }\n",
    "    r.json().set(f\"vec:{i}\", \"$\", doc)\n",
    "\n",
    "print(\"Inserted vector documents.\")"
   ]
  },
  {
   "cell_type": "code",
   "execution_count": 3,
   "id": "3068f910",
   "metadata": {},
   "outputs": [
    {
     "data": {
      "text/plain": [
       "'OK'"
      ]
     },
     "execution_count": 3,
     "metadata": {},
     "output_type": "execute_result"
    }
   ],
   "source": [
    "# Create RediSearch vector index\n",
    "from redis.commands.search.field import VectorField, TextField\n",
    "from redis.commands.search.index_definition import IndexDefinition, IndexType\n",
    "try:\n",
    "    r.ft(\"idx:vecs\").dropindex(delete_documents=False)\n",
    "except:\n",
    "    pass\n",
    "# Example schema\n",
    "schema = [\n",
    "    TextField(\"$.id\", as_name=\"id\"),\n",
    "    VectorField(\"$.embedding\", \"FLAT\", {\n",
    "        \"TYPE\": \"FLOAT32\",\n",
    "        \"DIM\": 8,\n",
    "        \"DISTANCE_METRIC\": \"COSINE\",\n",
    "        \"INITIAL_CAP\": 100\n",
    "    }, as_name=\"embedding\")\n",
    "]\n",
    "\n",
    "# Define index over JSON documents with prefix\n",
    "index_def = IndexDefinition(prefix=[\"vec:\"], index_type=IndexType.JSON)\n",
    "\n",
    "# Create index\n",
    "r.ft(\"idx:vecs\").create_index(fields=schema, definition=index_def)"
   ]
  },
  {
   "cell_type": "code",
   "execution_count": 11,
   "id": "82417cc4",
   "metadata": {},
   "outputs": [
    {
     "name": "stdout",
     "output_type": "stream",
     "text": [
      "vec:3 0.181895554066\n",
      "vec:1 0.209590494633\n"
     ]
    }
   ],
   "source": [
    "# Vector KNN query\n",
    "from redis.commands.search.query import Query\n",
    "import struct\n",
    "\n",
    "query_vector = create_vector()\n",
    "blob = np.array(query_vector, dtype=np.float32).tobytes()\n",
    "\n",
    "q = Query(\"*=>[KNN 2 @embedding $vec AS score]\").return_fields(\"id\", \"score\").sort_by(\"score\").dialect(2)\n",
    "res = r.ft(\"idx:vecs\").search(q, query_params={\"vec\": blob})\n",
    "\n",
    "for doc in res.docs:\n",
    "    print(doc.id, doc.score)"
   ]
  }
 ],
 "metadata": {
  "kernelspec": {
   "display_name": "Python 3 (ipykernel)",
   "language": "python",
   "name": "python3"
  },
  "language_info": {
   "codemirror_mode": {
    "name": "ipython",
    "version": 3
   },
   "file_extension": ".py",
   "mimetype": "text/x-python",
   "name": "python",
   "nbconvert_exporter": "python",
   "pygments_lexer": "ipython3",
   "version": "3.9.6"
  }
 },
 "nbformat": 4,
 "nbformat_minor": 5
}
