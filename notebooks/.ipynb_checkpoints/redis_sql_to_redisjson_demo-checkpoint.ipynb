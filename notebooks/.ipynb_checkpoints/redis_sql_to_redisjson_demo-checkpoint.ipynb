{
 "cells": [
  {
   "cell_type": "markdown",
   "id": "91357704",
   "metadata": {},
   "source": [
    "# Redis SQL to RedisJSON + RediSearch Demo\n",
    "\n",
    "This notebook demonstrates how to represent SQL-like relational data (Users, Portfolio, Transactions) using RedisJSON, index it with RediSearch, and query using RediSearch DSL."
   ]
  },
  {
   "cell_type": "code",
   "execution_count": 54,
   "id": "3e884972",
   "metadata": {},
   "outputs": [
    {
     "name": "stdout",
     "output_type": "stream",
     "text": [
      "Sample user documents inserted.\n"
     ]
    }
   ],
   "source": [
    "import redis\n",
    "import json\n",
    "import random\n",
    "from datetime import datetime, timedelta\n",
    "\n",
    "r = redis.Redis(host='localhost', port=6379, decode_responses=True)\n",
    "\n",
    "# Insert dummy data\n",
    "for i in range(1, 11):\n",
    "    user_id = f\"u{i}\"\n",
    "    portfolio = [\n",
    "        {\"stock\": \"AAPL\", \"quantity\": random.randint(1, 20), \"gainLoss\": round(random.uniform(-10, 25), 2)},\n",
    "        {\"stock\": \"TSLA\", \"quantity\": random.randint(1, 10), \"gainLoss\": round(random.uniform(-15, 30), 2)},\n",
    "        {\"stock\": \"HDFB Bank\", \"quantity\": random.randint(1, 20), \"gainLoss\": round(random.uniform(-10, 25), 2)},\n",
    "        {\"stock\": \"Maxis Bank\", \"quantity\": random.randint(1, 10), \"gainLoss\": round(random.uniform(-15, 30), 2)},\n",
    "        {\"stock\": \"TAHATA\", \"quantity\": random.randint(1, 20), \"gainLoss\": round(random.uniform(-10, 25), 2)},\n",
    "        {\"stock\": \"JIJO\", \"quantity\": random.randint(1, 10), \"gainLoss\": round(random.uniform(-15, 30), 2)}\n",
    "    ]\n",
    "    transactions = [\n",
    "        {\n",
    "            \"txnId\": f\"t{i}_{j}\",\n",
    "            \"type\": random.choice([\"BUY\", \"SELL\"]),\n",
    "            \"amount\": random.randint(500, 5000),\n",
    "            \"timestamp\": (datetime.now() - timedelta(days=j)).isoformat()\n",
    "        }\n",
    "        for j in range(11)\n",
    "    ]\n",
    "    doc = {\n",
    "        \"userId\": user_id,\n",
    "        \"name\": f\"User {i}\",\n",
    "        \"portfolio\": portfolio,\n",
    "        \"transactions\": transactions\n",
    "    }\n",
    "    r.json().set(f\"user:{user_id}\", \"$\", doc)\n",
    "\n",
    "print(\"Sample user documents inserted.\")"
   ]
  },
  {
   "cell_type": "code",
   "execution_count": 52,
   "id": "4157389d",
   "metadata": {},
   "outputs": [
    {
     "name": "stdout",
     "output_type": "stream",
     "text": [
      "idx:users Index created.\n"
     ]
    }
   ],
   "source": [
    "from redis.commands.search.field import TextField, NumericField\n",
    "from redis.commands.search.index_definition import IndexDefinition, IndexType\n",
    "from redis.commands.search import Search\n",
    "\n",
    "try:\n",
    "    r.ft(\"idx:users\").dropindex(delete_documents=False)\n",
    "except:\n",
    "    pass\n",
    "# Define schema\n",
    "schema = (\n",
    "    TextField(\"$.userId\", as_name=\"userId\"),\n",
    "    TextField(\"$.portfolio[*].stock\", as_name=\"stock\"),\n",
    "    NumericField(\"$.portfolio[*].gainLoss\", as_name=\"gainLoss\"),\n",
    "    NumericField(\"$.transactions[*].amount\", as_name=\"amount\"),\n",
    "    TextField(\"$.transactions[*].timestamp\", as_name=\"timestamp\")\n",
    ")\n",
    "\n",
    "# Define index definition (use IndexType.JSON if using RedisJSON)\n",
    "definition = IndexDefinition(prefix=[\"user:\"], index_type=IndexType.JSON)\n",
    "\n",
    "# Create index\n",
    "r.ft(\"idx:users\").create_index(fields=schema, definition=definition)\n",
    "\n",
    "\n",
    "print(\"idx:users Index created.\")"
   ]
  },
  {
   "cell_type": "code",
   "execution_count": 60,
   "id": "fde0aebd",
   "metadata": {},
   "outputs": [
    {
     "name": "stdout",
     "output_type": "stream",
     "text": [
      "\n",
      "Document ID: user:u1\n",
      "Parsed Portfolio:\n",
      "  • Stock: AAPL | Quantity: 14 | Gain/Loss: -3.62\n",
      "  • Stock: TSLA | Quantity: 1 | Gain/Loss: 10.99\n",
      "  • Stock: HDFB Bank | Quantity: 12 | Gain/Loss: 2.61\n",
      "  • Stock: Maxis Bank | Quantity: 3 | Gain/Loss: -3.05\n",
      "  • Stock: TAHATA | Quantity: 12 | Gain/Loss: -5.84\n",
      "  • Stock: JIJO | Quantity: 5 | Gain/Loss: 2.77\n"
     ]
    }
   ],
   "source": [
    "from redis.commands.search.query import Query\n",
    "\n",
    "user_id = \"u1\"\n",
    "q = Query(f\"@userId:{user_id}\").return_fields(\"$.portfolio\").sort_by(\"gainLoss\", asc=False).dialect(2)\n",
    "res = r.ft(\"idx:users\").search(q)\n",
    "\n",
    "for doc in res.docs:\n",
    "    print(f\"\\nDocument ID: {doc.id}\")\n",
    "    \n",
    "    raw_portfolio = doc[\"$.portfolio\"]\n",
    "    try:\n",
    "        # Parse the JSON string into a Python list\n",
    "        portfolio = json.loads(raw_portfolio)\n",
    "        print(\"Parsed Portfolio:\")\n",
    "        for item in portfolio:\n",
    "            print(f\"  • Stock: {item['stock']} | Quantity: {item['quantity']} | Gain/Loss: {item['gainLoss']}\")\n",
    "    except Exception as e:\n",
    "        print(\"Error parsing portfolio:\", e)\n",
    "        print(\"Raw:\", raw_portfolio)"
   ]
  },
  {
   "cell_type": "code",
   "execution_count": 59,
   "id": "e4e31f65",
   "metadata": {},
   "outputs": [
    {
     "name": "stdout",
     "output_type": "stream",
     "text": [
      "Transactions:\n",
      "  • txnId: t1_0 | Date: 2025-08-01T14:44:11.040869 | Type: SELL | Amount: 2140\n",
      "  • txnId: t1_1 | Date: 2025-07-31T14:44:11.040901 | Type: SELL | Amount: 3336\n",
      "  • txnId: t1_2 | Date: 2025-07-30T14:44:11.040905 | Type: BUY | Amount: 1749\n",
      "  • txnId: t1_3 | Date: 2025-07-29T14:44:11.040907 | Type: SELL | Amount: 1082\n",
      "  • txnId: t1_4 | Date: 2025-07-28T14:44:11.040910 | Type: BUY | Amount: 2919\n",
      "  • txnId: t1_5 | Date: 2025-07-27T14:44:11.040913 | Type: BUY | Amount: 1132\n",
      "  • txnId: t1_6 | Date: 2025-07-26T14:44:11.040915 | Type: SELL | Amount: 1274\n",
      "  • txnId: t1_7 | Date: 2025-07-25T14:44:11.040918 | Type: BUY | Amount: 624\n",
      "  • txnId: t1_8 | Date: 2025-07-24T14:44:11.040920 | Type: BUY | Amount: 3245\n",
      "  • txnId: t1_9 | Date: 2025-07-23T14:44:11.040927 | Type: SELL | Amount: 2880\n",
      "  • txnId: t1_10 | Date: 2025-07-22T14:44:11.040930 | Type: BUY | Amount: 3634\n"
     ]
    }
   ],
   "source": [
    "q = Query(f\"@userId:{user_id}\").return_fields(\"$.transactions\").sort_by(\"timestamp\", asc=False).dialect(2)\n",
    "res = r.ft(\"idx:users\").search(q)\n",
    "\n",
    "for doc in res.docs:\n",
    "    try:\n",
    "        transactions = json.loads(doc[\"$.transactions\"])\n",
    "        print(\"Transactions:\")\n",
    "        for tx in transactions:\n",
    "            print(f\"  • txnId: {tx['txnId']} | Date: {tx['timestamp']} | Type: {tx['type']} | Amount: {tx['amount']}\")\n",
    "    except Exception as e:\n",
    "        print(\"Error parsing transactions:\", e)"
   ]
  },
  {
   "cell_type": "code",
   "execution_count": null,
   "id": "893c0e7a-304d-4c30-a52d-8a5200a850f8",
   "metadata": {},
   "outputs": [],
   "source": []
  }
 ],
 "metadata": {
  "kernelspec": {
   "display_name": "Python 3 (ipykernel)",
   "language": "python",
   "name": "python3"
  },
  "language_info": {
   "codemirror_mode": {
    "name": "ipython",
    "version": 3
   },
   "file_extension": ".py",
   "mimetype": "text/x-python",
   "name": "python",
   "nbconvert_exporter": "python",
   "pygments_lexer": "ipython3",
   "version": "3.9.6"
  }
 },
 "nbformat": 4,
 "nbformat_minor": 5
}
