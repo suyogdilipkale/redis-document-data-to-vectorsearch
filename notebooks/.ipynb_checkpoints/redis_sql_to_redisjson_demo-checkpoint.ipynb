{
 "cells": [
  {
   "cell_type": "markdown",
   "metadata": {},
   "source": [
    "# Redis SQL to RedisJSON + RediSearch Demo\n",
    "\n",
    "This notebook demonstrates how to represent SQL-like relational data (Users, Portfolio, Transactions) using RedisJSON, index it with RediSearch, and query using RediSearch DSL."
   ]
  },
  {
   "cell_type": "code",
   "execution_count": null,
   "metadata": {},
   "outputs": [],
   "source": [
    "import redis\n",
    "import json\n",
    "import random\n",
    "from datetime import datetime, timedelta\n",
    "\n",
    "r = redis.Redis(host='localhost', port=6379, decode_responses=True)\n",
    "\n",
    "# Insert dummy data\n",
    "for i in range(1, 6):\n",
    "    user_id = f\"u{i}\"\n",
    "    portfolio = [\n",
    "        {\"stock\": \"AAPL\", \"quantity\": random.randint(1, 20), \"gainLoss\": round(random.uniform(-10, 25), 2)},\n",
    "        {\"stock\": \"TSLA\", \"quantity\": random.randint(1, 10), \"gainLoss\": round(random.uniform(-15, 30), 2)}\n",
    "    ]\n",
    "    transactions = [\n",
    "        {\n",
    "            \"txnId\": f\"t{i}_{j}\",\n",
    "            \"type\": random.choice([\"BUY\", \"SELL\"]),\n",
    "            \"amount\": random.randint(500, 5000),\n",
    "            \"timestamp\": (datetime.now() - timedelta(days=j)).isoformat()\n",
    "        }\n",
    "        for j in range(3)\n",
    "    ]\n",
    "    doc = {\n",
    "        \"userId\": user_id,\n",
    "        \"name\": f\"User {i}\",\n",
    "        \"portfolio\": portfolio,\n",
    "        \"transactions\": transactions\n",
    "    }\n",
    "    r.json().set(f\"user:{user_id}\", \"$\", doc)\n",
    "\n",
    "print(\"Sample user documents inserted.\")"
   ]
  },
  {
   "cell_type": "code",
   "execution_count": null,
   "metadata": {},
   "outputs": [],
   "source": [
    "from redis.commands.search.field import TextField, TagField, NumericField\n",
    "\n",
    "try:\n",
    "    r.ft(\"idx:users\").dropindex(delete_documents=False)\n",
    "except:\n",
    "    pass\n",
    "\n",
    "r.ft(\"idx:users\").create_index([\n",
    "    TagField(\"$.userId\", as_name=\"userId\"),\n",
    "    TextField(\"$.portfolio[*].stock\", as_name=\"stock\"),\n",
    "    NumericField(\"$.portfolio[*].gainLoss\", as_name=\"gainLoss\"),\n",
    "    TextField(\"$.transactions[*].timestamp\", as_name=\"timestamp\")\n",
    "], on='JSON', prefix=['user:'])\n",
    "\n",
    "print(\"Index created.\")"
   ]
  },
  {
   "cell_type": "code",
   "execution_count": null,
   "metadata": {},
   "outputs": [],
   "source": [
    "from redis.commands.search.query import Query\n",
    "\n",
    "user_id = \"u1\"\n",
    "q = Query(f\"@userId:{{{user_id}}}\").return_fields(\"portfolio\").sort_by(\"gainLoss\", asc=False).dialect(2)\n",
    "res = r.ft(\"idx:users\").search(q)\n",
    "\n",
    "for doc in res.docs:\n",
    "    print(json.dumps(json.loads(doc.portfolio), indent=2))"
   ]
  },
  {
   "cell_type": "code",
   "execution_count": null,
   "metadata": {},
   "outputs": [],
   "source": [
    "q = Query(f\"@userId:{{{user_id}}}\").return_fields(\"transactions\").sort_by(\"timestamp\", asc=False).dialect(2)\n",
    "res = r.ft(\"idx:users\").search(q)\n",
    "\n",
    "for doc in res.docs:\n",
    "    print(json.dumps(json.loads(doc.transactions), indent=2))"
   ]
  }
 ],
 "metadata": {
  "kernelspec": {
   "display_name": "Python 3",
   "language": "python",
   "name": "python3"
  },
  "language_info": {
   "name": "python",
   "version": ""
  }
 },
 "nbformat": 4,
 "nbformat_minor": 5
}
